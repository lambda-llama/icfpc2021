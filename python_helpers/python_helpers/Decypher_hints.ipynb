{
 "cells": [
  {
   "cell_type": "markdown",
   "id": "8df22c50",
   "metadata": {},
   "source": [
    "# Hints from the orgs\n",
    "\n",
    "### Fri, 09 July 08:49 UTC\n",
    "\n",
    "ta.jvfblvbi\n",
    "\n",
    "Te6XDacTWXn \n",
    "\n",
    "\n",
    "### Thu, 08 July 16:30 UTC\n",
    "\n",
    "vbtib.lafvj\n",
    "\n",
    "KE7ZFnZQ59D\n",
    "\n",
    "\n",
    "### Wed, 07 July 15:36 UTC\n",
    "\n",
    "We strongly recommend participants this year to wear waterproof clothing and leave their phone in a locker.\n"
   ]
  },
  {
   "cell_type": "code",
   "execution_count": 22,
   "id": "2e0c7928",
   "metadata": {},
   "outputs": [
    {
     "name": "stdout",
     "output_type": "stream",
     "text": [
      "Hint length: 11\n"
     ]
    }
   ],
   "source": [
    "pairs = [\n",
    "    [\"vbtib.lafvj\", \"KE7ZFnZQ59D\"],\n",
    "    [\"ta.jvfblvbi\", \"Te6XDacTWXn\"],\n",
    "]\n",
    "\n",
    "print(\"Hint length:\", len(pairs[0][0]))"
   ]
  },
  {
   "cell_type": "code",
   "execution_count": 23,
   "id": "3d73e2f3",
   "metadata": {},
   "outputs": [
    {
     "name": "stdout",
     "output_type": "stream",
     "text": [
      "[118, 98, 116, 105, 98, 46, 108, 97, 102, 118, 106] [75, 69, 55, 90, 70, 110, 90, 81, 53, 57, 68]\n",
      "[116, 97, 46, 106, 118, 102, 98, 108, 118, 98, 105] [84, 101, 54, 88, 68, 97, 99, 84, 87, 88, 110]\n"
     ]
    }
   ],
   "source": [
    "def str_ord(s):\n",
    "    return [ord(c) for c in s]\n",
    "\n",
    "for p in pairs:\n",
    "    print(str_ord(p[0]), str_ord(p[1]))"
   ]
  },
  {
   "cell_type": "code",
   "execution_count": 31,
   "id": "5893ac52",
   "metadata": {},
   "outputs": [
    {
     "name": "stdout",
     "output_type": "stream",
     "text": [
      ".abbfijltvv 579DEFKQZZn\n",
      ".abbfijltvv 6DTTWXXacen\n"
     ]
    }
   ],
   "source": [
    "for p in pairs:\n",
    "    print(\"\".join(sorted(p[0])), \"\".join(sorted(p[1])))"
   ]
  },
  {
   "cell_type": "code",
   "execution_count": 25,
   "id": "0af9301c",
   "metadata": {},
   "outputs": [
    {
     "name": "stdout",
     "output_type": "stream",
     "text": [
      "='C3$@60SO.\n",
      " \u0004\u001822\u0007\u00018!:\u0007\n"
     ]
    }
   ],
   "source": [
    "for p in pairs:\n",
    "    print(\"\".join([chr(ord(c1) ^ ord(c2)) for c1, c2 in zip(p[0], p[1])]))"
   ]
  },
  {
   "cell_type": "code",
   "execution_count": 26,
   "id": "6837bc2d",
   "metadata": {},
   "outputs": [
    {
     "name": "stdout",
     "output_type": "stream",
     "text": [
      "0 48\n",
      "9 57\n",
      "A 65\n",
      "Z 90\n",
      "a 97\n",
      "z 122\n"
     ]
    }
   ],
   "source": [
    "for c in ['0', '9', 'A', 'Z', 'a', 'z']:\n",
    "    print(c, ord(c))"
   ]
  },
  {
   "cell_type": "code",
   "execution_count": 27,
   "id": "05bf055f",
   "metadata": {},
   "outputs": [],
   "source": [
    "def get_bin(c):\n",
    "    return '{0:08b}'.format(ord(c))"
   ]
  },
  {
   "cell_type": "code",
   "execution_count": 28,
   "id": "9d442ac6",
   "metadata": {},
   "outputs": [
    {
     "name": "stdout",
     "output_type": "stream",
     "text": [
      "00101110\n",
      "01101110\n"
     ]
    }
   ],
   "source": [
    "print(get_bin('.'))\n",
    "print(get_bin('n'))"
   ]
  },
  {
   "cell_type": "code",
   "execution_count": 29,
   "id": "435b4ab1",
   "metadata": {},
   "outputs": [
    {
     "name": "stdout",
     "output_type": "stream",
     "text": [
      "01110110 01001011\n",
      "01100010 01000101\n",
      "01110100 00110111\n",
      "01101001 01011010\n",
      "01100010 01000110\n",
      "00101110 01101110\n",
      "01101100 01011010\n",
      "01100001 01010001\n",
      "01100110 00110101\n",
      "01110110 00111001\n",
      "01101010 01000100\n"
     ]
    }
   ],
   "source": [
    "for c1, c2 in zip(s1, s2):\n",
    "    print(get_bin(c1), get_bin(c2))"
   ]
  },
  {
   "cell_type": "code",
   "execution_count": 43,
   "id": "c45b573e",
   "metadata": {},
   "outputs": [
    {
     "data": {
      "text/plain": [
       "[40, 78, 217, 22, 118, 80, 231, 208]"
      ]
     },
     "execution_count": 43,
     "metadata": {},
     "output_type": "execute_result"
    }
   ],
   "source": [
    "import base64\n",
    "\n",
    "[int(b) for b in base64.b64decode(pairs[0][1] + '=')]"
   ]
  },
  {
   "cell_type": "code",
   "execution_count": 44,
   "id": "dfe5f441",
   "metadata": {},
   "outputs": [
    {
     "data": {
      "text/plain": [
       "[77, 238, 151, 13, 167, 19, 89, 121]"
      ]
     },
     "execution_count": 44,
     "metadata": {},
     "output_type": "execute_result"
    }
   ],
   "source": [
    "[int(b) for b in base64.b64decode(pairs[1][1] + '=')]"
   ]
  },
  {
   "cell_type": "code",
   "execution_count": null,
   "id": "06735318",
   "metadata": {},
   "outputs": [],
   "source": []
  }
 ],
 "metadata": {
  "kernelspec": {
   "display_name": "Python 3 (ipykernel)",
   "language": "python",
   "name": "python3"
  },
  "language_info": {
   "codemirror_mode": {
    "name": "ipython",
    "version": 3
   },
   "file_extension": ".py",
   "mimetype": "text/x-python",
   "name": "python",
   "nbconvert_exporter": "python",
   "pygments_lexer": "ipython3",
   "version": "3.9.6"
  }
 },
 "nbformat": 4,
 "nbformat_minor": 5
}
