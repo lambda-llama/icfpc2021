{
 "cells": [
  {
   "cell_type": "markdown",
   "id": "8df22c50",
   "metadata": {},
   "source": [
    "# Hints from the orgs\n",
    "\n",
    "\n",
    "### Thu, 08 July 16:30 UTC\n",
    "\n",
    "vbtib.lafvj\n",
    "\n",
    "KE7ZFnZQ59D\n",
    "\n",
    "\n",
    "### Wed, 07 July 15:36 UTC\n",
    "\n",
    "We strongly recommend participants this year to wear waterproof clothing and leave their phone in a locker.\n"
   ]
  },
  {
   "cell_type": "code",
   "execution_count": 5,
   "id": "2e0c7928",
   "metadata": {},
   "outputs": [
    {
     "name": "stdout",
     "output_type": "stream",
     "text": [
      "Hint length: 11\n"
     ]
    }
   ],
   "source": [
    "s1 = \"vbtib.lafvj\"\n",
    "s2 = \"KE7ZFnZQ59D\"\n",
    "print(\"Hint length:\", len(s1))"
   ]
  },
  {
   "cell_type": "code",
   "execution_count": 43,
   "id": "3d73e2f3",
   "metadata": {},
   "outputs": [
    {
     "name": "stdout",
     "output_type": "stream",
     "text": [
      "[72, 52, 70, 59, 52, 0, 62, 51, 56, 72, 60]\n",
      "[75, 69, 55, 90, 70, 110, 90, 81, 53, 57, 68]\n"
     ]
    }
   ],
   "source": [
    "print([ord(c) - ord('.') for c in s1])\n",
    "print([ord(c) for c in s2])"
   ]
  },
  {
   "cell_type": "code",
   "execution_count": 68,
   "id": "6837bc2d",
   "metadata": {},
   "outputs": [
    {
     "data": {
      "text/plain": [
       "\"='C3$@60SO.\""
      ]
     },
     "execution_count": 68,
     "metadata": {},
     "output_type": "execute_result"
    }
   ],
   "source": [
    "\"\".join([chr(ord(c1) ^ ord(c2)) for c1, c2 in zip(s1, s2)])"
   ]
  },
  {
   "cell_type": "code",
   "execution_count": 36,
   "id": "d7eeb963",
   "metadata": {},
   "outputs": [
    {
     "data": {
      "text/plain": [
       "[165, 150, 108, 147, 138]"
      ]
     },
     "execution_count": 36,
     "metadata": {},
     "output_type": "execute_result"
    }
   ],
   "source": [
    "v0, v1 = [[ord(c) for c in s] for s in s2.split('n')]\n",
    "[vx + vy for vx, vy in zip(v0, v1)]"
   ]
  },
  {
   "cell_type": "code",
   "execution_count": 39,
   "id": "35549ff5",
   "metadata": {},
   "outputs": [
    {
     "name": "stdout",
     "output_type": "stream",
     "text": [
      "0 48\n",
      "9 57\n",
      "A 65\n",
      "Z 90\n",
      "a 97\n",
      "z 122\n"
     ]
    }
   ],
   "source": [
    "for c in ['0', '9', 'A', 'Z', 'a', 'z']:\n",
    "    print(c, ord(c))"
   ]
  },
  {
   "cell_type": "code",
   "execution_count": 40,
   "id": "dfefb869",
   "metadata": {},
   "outputs": [
    {
     "name": "stdout",
     "output_type": "stream",
     "text": [
      "91 [\n",
      "92 \\\n",
      "93 ]\n",
      "94 ^\n",
      "95 _\n",
      "96 `\n"
     ]
    }
   ],
   "source": [
    "for o in range(91, 97):\n",
    "    print(o, chr(o))"
   ]
  },
  {
   "cell_type": "code",
   "execution_count": 50,
   "id": "82e1497c",
   "metadata": {},
   "outputs": [
    {
     "name": "stdout",
     "output_type": "stream",
     "text": [
      "vbtib.lafvj\n",
      "wcuhc/m`gwk\n",
      "t`vk`,ncdth\n",
      "uawja-obeui\n",
      "rfpmf*hebrn\n",
      "sgqlg+idcso\n",
      "pdrod(jg`pl\n",
      "qesne)kfaqm\n",
      "~j|aj&din~b\n",
      "k}`k'ehoc\n",
      "|h~ch$fkl|`\n",
      "}ibi%gjm}a\n",
      "znxen\"`mjzf\n",
      "{oydo#alk{g\n",
      "xlzgl bohxd\n",
      "ym{fm!cniye\n",
      "frdyr>|qvfz\n",
      "gsexs?}pwg{\n",
      "dpf{p<~stdx\n",
      "eqgzq=ruey\n",
      "bv`}v:xurb~\n",
      "cwa|w;ytsc\n",
      "`tbt8zwp`|\n",
      "auc~u9{vqa}\n",
      "nzlqz6ty~nr\n",
      "o{mp{7uxos\n",
      "lxnsx4v{|lp\n",
      "myory5wz}mq\n",
      "j~hu~2p}zjv\n",
      "kit3q|{kw\n",
      "h|jw|0rxht\n",
      "i}kv}1s~yiu\n",
      "VBTIB\u000eLAFVJ\n",
      "WCUHC\u000fM@GWK\n",
      "T@VK@\f",
      "NCDTH\n",
      "UAWJA\r",
      "OBEUI\n",
      "RFPMF\n",
      "HEBRN\n",
      "SGQLG\u000b",
      "IDCSO\n",
      "PDROD\bJG@PL\n",
      "QESNE\tKFAQM\n",
      "^J\\AJ\u0006DIN^B\n",
      "_K]@K\u0007EHO_C\n",
      "\\H^CH\u0004FKL\\@\n",
      "]I_BI\u0005GJM]A\n",
      "ZNXEN\u0002@MJZF\n",
      "[OYDO\u0003ALK[G\n",
      "XLZGL\u0000BOHXD\n"
     ]
    }
   ],
   "source": [
    "for d in range(0, ord('.') + 1):\n",
    "    print(\"\".join([chr(ord(c) ^ d) for c in s1]))"
   ]
  },
  {
   "cell_type": "code",
   "execution_count": 63,
   "id": "05bf055f",
   "metadata": {},
   "outputs": [],
   "source": [
    "def get_bin(c):\n",
    "    return '{0:08b}'.format(ord(c))"
   ]
  },
  {
   "cell_type": "code",
   "execution_count": 64,
   "id": "9d442ac6",
   "metadata": {},
   "outputs": [
    {
     "name": "stdout",
     "output_type": "stream",
     "text": [
      "00101110\n",
      "01101110\n"
     ]
    }
   ],
   "source": [
    "print(get_bin('.'))\n",
    "print(get_bin('n'))"
   ]
  },
  {
   "cell_type": "code",
   "execution_count": 67,
   "id": "435b4ab1",
   "metadata": {},
   "outputs": [
    {
     "name": "stdout",
     "output_type": "stream",
     "text": [
      "01110110 01001011\n",
      "01100010 01000101\n",
      "01110100 00110111\n",
      "01101001 01011010\n",
      "01100010 01000110\n",
      "00101110 01101110\n",
      "01101100 01011010\n",
      "01100001 01010001\n",
      "01100110 00110101\n",
      "01110110 00111001\n",
      "01101010 01000100\n"
     ]
    }
   ],
   "source": [
    "for c1, c2 in zip(s1, s2):\n",
    "    print(get_bin(c1), get_bin(c2))"
   ]
  },
  {
   "cell_type": "code",
   "execution_count": 69,
   "id": "085ef6e2",
   "metadata": {},
   "outputs": [],
   "source": [
    "s3 = \"\".join([chr(ord(c1) ^ ord(c2)) for c1, c2 in zip(s1, s2)])"
   ]
  },
  {
   "cell_type": "code",
   "execution_count": 71,
   "id": "56cafa1d",
   "metadata": {},
   "outputs": [
    {
     "data": {
      "text/plain": [
       "64"
      ]
     },
     "execution_count": 71,
     "metadata": {},
     "output_type": "execute_result"
    }
   ],
   "source": [
    "ord('n') - ord('.')"
   ]
  },
  {
   "cell_type": "code",
   "execution_count": 74,
   "id": "30ad7825",
   "metadata": {},
   "outputs": [
    {
     "name": "stdout",
     "output_type": "stream",
     "text": [
      "VBTIB\u000eLAFVJ\n"
     ]
    }
   ],
   "source": [
    "print(\"\".join([chr(ord(c1) ^ 32) for c1, c2 in zip(s1, s2)]))"
   ]
  },
  {
   "cell_type": "code",
   "execution_count": 75,
   "id": "d2b2f986",
   "metadata": {},
   "outputs": [
    {
     "name": "stdout",
     "output_type": "stream",
     "text": [
      "ke\u0017zfNzq\u0015\u0019d\n"
     ]
    }
   ],
   "source": [
    "print(\"\".join([chr(ord(c2) ^ 32) for c1, c2 in zip(s1, s2)]))"
   ]
  },
  {
   "cell_type": "code",
   "execution_count": null,
   "id": "2cb373e3",
   "metadata": {},
   "outputs": [],
   "source": []
  }
 ],
 "metadata": {
  "kernelspec": {
   "display_name": "Python 3 (ipykernel)",
   "language": "python",
   "name": "python3"
  },
  "language_info": {
   "codemirror_mode": {
    "name": "ipython",
    "version": 3
   },
   "file_extension": ".py",
   "mimetype": "text/x-python",
   "name": "python",
   "nbconvert_exporter": "python",
   "pygments_lexer": "ipython3",
   "version": "3.9.6"
  }
 },
 "nbformat": 4,
 "nbformat_minor": 5
}
